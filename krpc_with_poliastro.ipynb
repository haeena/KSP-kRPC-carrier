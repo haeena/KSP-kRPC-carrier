{
 "cells": [
  {
   "cell_type": "code",
   "execution_count": 1,
   "metadata": {},
   "outputs": [],
   "source": [
    "%matplotlib inline\n",
    "import matplotlib.pyplot as plt\n",
    "\n",
    "import math\n",
    "import time\n",
    "\n",
    "import numpy as np\n",
    "from astropy import units as AstropyUnit\n",
    "from astropy.time import Time as AstropyTime\n",
    "from astropy.constants import Constant as AstropyConstant\n",
    "from poliastro.bodies import Body as PoliastroBody\n",
    "from poliastro.twobody import Orbit as PoliastroOrbit\n",
    "\n",
    "import krpc\n",
    "from krpc.client import Client\n",
    "from typing import Union, NewType\n",
    "Vessel = NewType(\"Vessel\", object)\n",
    "Body = NewType(\"Body\", object)\n",
    "\n",
    "from functools import reduce\n",
    "\n",
    "conn = krpc.connect(name='jupyter')\n",
    "\n",
    "def _convert_body_krpc_to_poliastro(poliastro_bodies: dict, parent: PoliastroBody, krpc_body: Body):\n",
    "    name = krpc_body.name\n",
    "    GM = AstropyConstant('GM_k{}'.format(name), 'Kerbal {} gravitational constant'.format(name),\n",
    "                  krpc_body.gravitational_parameter, 'm3 / (s2)', 0,\n",
    "                  'kRPC space_center.bodies[\"{}\"].gravitational_parameter'.format(name), system='si')\n",
    "    R = AstropyConstant('R_k{}'.format(name), 'Kerbal {} equatorial radius'.format(name),\n",
    "                      krpc_body.equatorial_radius, 'm', 0,\n",
    "                     'kRPC space_center.bodies[\"{}\"].equatorial_radius'.format(name), system='si')\n",
    "    poliastro_body = PoliastroBody(parent, GM, \"\", name, R)\n",
    "    poliastro_bodies[name] = poliastro_body\n",
    "    for satelite in krpc_body.satellites:\n",
    "        _convert_body_krpc_to_poliastro(poliastro_bodies, poliastro_body, satelite)\n",
    "    return\n",
    "\n",
    "def krpc_poliastro_bodies(conn: Client) -> (dict, dict):\n",
    "    poliastro_bodies = {}\n",
    "    krpc_bodies = conn.space_center.bodies\n",
    "\n",
    "    krpc_Sun = krpc_bodies[\"Sun\"]\n",
    "    _convert_body_krpc_to_poliastro(poliastro_bodies, None, krpc_Sun)\n",
    "    return (krpc_bodies, poliastro_bodies)\n",
    "\n",
    "\n",
    "krpc_bodies, poliastro_bodies = krpc_poliastro_bodies(conn)"
   ]
  },
  {
   "cell_type": "code",
   "execution_count": 2,
   "metadata": {},
   "outputs": [
    {
     "ename": "NameError",
     "evalue": "name 'target' is not defined",
     "output_type": "error",
     "traceback": [
      "\u001b[0;31m---------------------------------------------------------------------------\u001b[0m",
      "\u001b[0;31mNameError\u001b[0m                                 Traceback (most recent call last)",
      "\u001b[0;32m<ipython-input-2-914d2bbe4779>\u001b[0m in \u001b[0;36m<module>\u001b[0;34m()\u001b[0m\n\u001b[1;32m     13\u001b[0m \u001b[0mreference_frame\u001b[0m \u001b[0;34m=\u001b[0m \u001b[0mkrpc_bodies\u001b[0m\u001b[0;34m[\u001b[0m\u001b[0mattractor\u001b[0m\u001b[0;34m.\u001b[0m\u001b[0mname\u001b[0m\u001b[0;34m]\u001b[0m\u001b[0;34m.\u001b[0m\u001b[0mnon_rotating_reference_frame\u001b[0m\u001b[0;34m\u001b[0m\u001b[0m\n\u001b[1;32m     14\u001b[0m \u001b[0;34m\u001b[0m\u001b[0m\n\u001b[0;32m---> 15\u001b[0;31m \u001b[0mr_target\u001b[0m \u001b[0;34m=\u001b[0m \u001b[0mtarget\u001b[0m\u001b[0;34m.\u001b[0m\u001b[0mposition\u001b[0m\u001b[0;34m(\u001b[0m\u001b[0mreference_frame\u001b[0m\u001b[0;34m)\u001b[0m \u001b[0;34m*\u001b[0m \u001b[0mAstropyUnit\u001b[0m\u001b[0;34m.\u001b[0m\u001b[0mm\u001b[0m\u001b[0;34m\u001b[0m\u001b[0m\n\u001b[0m\u001b[1;32m     16\u001b[0m \u001b[0mv_target\u001b[0m \u001b[0;34m=\u001b[0m \u001b[0mtarget\u001b[0m\u001b[0;34m.\u001b[0m\u001b[0mvelocity\u001b[0m\u001b[0;34m(\u001b[0m\u001b[0mreference_frame\u001b[0m\u001b[0;34m)\u001b[0m \u001b[0;34m*\u001b[0m \u001b[0mAstropyUnit\u001b[0m\u001b[0;34m.\u001b[0m\u001b[0mm\u001b[0m \u001b[0;34m/\u001b[0m \u001b[0mAstropyUnit\u001b[0m\u001b[0;34m.\u001b[0m\u001b[0ms\u001b[0m\u001b[0;34m\u001b[0m\u001b[0m\n\u001b[1;32m     17\u001b[0m \u001b[0mss_target\u001b[0m \u001b[0;34m=\u001b[0m \u001b[0mPoliastroOrbit\u001b[0m\u001b[0;34m.\u001b[0m\u001b[0mfrom_vectors\u001b[0m\u001b[0;34m(\u001b[0m\u001b[0mpoliastro_bodies\u001b[0m\u001b[0;34m[\u001b[0m\u001b[0mattractor\u001b[0m\u001b[0;34m.\u001b[0m\u001b[0mname\u001b[0m\u001b[0;34m]\u001b[0m\u001b[0;34m,\u001b[0m \u001b[0mr_target\u001b[0m\u001b[0;34m,\u001b[0m \u001b[0mv_target\u001b[0m\u001b[0;34m,\u001b[0m \u001b[0mepoch\u001b[0m\u001b[0;34m=\u001b[0m\u001b[0mastropy_ut\u001b[0m\u001b[0;34m)\u001b[0m\u001b[0;34m\u001b[0m\u001b[0m\n",
      "\u001b[0;31mNameError\u001b[0m: name 'target' is not defined"
     ]
    }
   ],
   "source": [
    "krpc_ut = conn.space_center.ut\n",
    "astropy_ut = AstropyTime(krpc_ut, format=\"unix\")\n",
    "\n",
    "vessel = conn.space_center.active_vessel\n",
    "attractor = vessel.orbit.body\n",
    "if conn.space_center.target_body:\n",
    "    target = conn.space_center.target_body\n",
    "    target_type = \"CelestialBody\"\n",
    "elif conn.space_center.target_vessel:\n",
    "    target = conn.space_center.target_vessel\n",
    "    target_type = \"Vessel\"\n",
    "\n",
    "reference_frame = krpc_bodies[attractor.name].non_rotating_reference_frame\n",
    "\n",
    "r_target = target.position(reference_frame) * AstropyUnit.m\n",
    "v_target = target.velocity(reference_frame) * AstropyUnit.m / AstropyUnit.s\n",
    "ss_target = PoliastroOrbit.from_vectors(poliastro_bodies[attractor.name], r_target, v_target, epoch=astropy_ut)\n",
    "\n",
    "r_i = vessel.position(reference_frame) * AstropyUnit.m\n",
    "v_i = vessel.velocity(reference_frame) * AstropyUnit.m / AstropyUnit.s\n",
    "ss_i = PoliastroOrbit.from_vectors(poliastro_bodies[attractor.name], r_i, v_i, epoch=astropy_ut)"
   ]
  },
  {
   "cell_type": "code",
   "execution_count": null,
   "metadata": {},
   "outputs": [],
   "source": [
    "from poliastro.plotting import plot\n",
    "plot(ss_target)"
   ]
  },
  {
   "cell_type": "code",
   "execution_count": null,
   "metadata": {},
   "outputs": [],
   "source": [
    "from poliastro.maneuver import Maneuver\n",
    "ap_target = target.orbit.apoapsis\n",
    "hoh = Maneuver.hohmann(ss_i, ap_target * AstropyUnit.m)\n",
    "hoh.get_total_cost()"
   ]
  },
  {
   "cell_type": "code",
   "execution_count": null,
   "metadata": {},
   "outputs": [],
   "source": [
    "np.linalg.norm(hoh[0][1])"
   ]
  },
  {
   "cell_type": "code",
   "execution_count": null,
   "metadata": {},
   "outputs": [],
   "source": [
    "hoh.get_total_time().value"
   ]
  },
  {
   "cell_type": "code",
   "execution_count": null,
   "metadata": {},
   "outputs": [],
   "source": [
    "from poliastro.plotting import OrbitPlotter\n",
    "\n",
    "op = OrbitPlotter()\n",
    "ss_a, ss_f = ss_i.apply_maneuver(hoh, intermediate=True)\n",
    "op.plot(ss_i, label=\"Initial orbit\")\n",
    "op.plot(ss_a, label=\"Transfer orbit\")\n",
    "op.plot(ss_f, label=\"Final orbit\")"
   ]
  },
  {
   "cell_type": "code",
   "execution_count": null,
   "metadata": {},
   "outputs": [],
   "source": [
    "from poliastro.util import norm\n",
    "delta_v = norm(tuple(val.decompose([AstropyUnit.m, AstropyUnit.s]) for val in hoh[0])[1])"
   ]
  },
  {
   "cell_type": "code",
   "execution_count": null,
   "metadata": {},
   "outputs": [],
   "source": [
    "ss_i.sample(1)"
   ]
  },
  {
   "cell_type": "code",
   "execution_count": null,
   "metadata": {},
   "outputs": [],
   "source": [
    "ss_a.propagate(hoh.get_total_time()).sample(1)"
   ]
  },
  {
   "cell_type": "code",
   "execution_count": null,
   "metadata": {},
   "outputs": [],
   "source": [
    "ss_target.propagate(hoh.get_total_time()).sample(1)"
   ]
  },
  {
   "cell_type": "code",
   "execution_count": null,
   "metadata": {},
   "outputs": [],
   "source": [
    "def unit_vector(vector):\n",
    "    return vector / np.linalg.norm(vector)\n",
    "\n",
    "def dot(v1, v2):\n",
    "    v1_u = unit_vector(v1)\n",
    "    v2_u = unit_vector(v2)\n",
    "    return np.clip(np.dot(v1_u, v2_u), -1.0, 1.0)\n",
    "\n",
    "def angle_between(v1, v2):\n",
    "    v1_u = unit_vector(v1)\n",
    "    v2_u = unit_vector(v2)\n",
    "    return np.arccos(np.clip(np.dot(v1_u, v2_u), -1.0, 1.0))"
   ]
  },
  {
   "cell_type": "code",
   "execution_count": null,
   "metadata": {},
   "outputs": [],
   "source": [
    "angle_between(ss_a.propagate(hoh.get_total_time()).sample(1).xyz.value.take([0,1,2]),\n",
    "              ss_target.propagate(hoh.get_total_time()).sample(1).xyz.value.take([0,1,2]))"
   ]
  },
  {
   "cell_type": "code",
   "execution_count": null,
   "metadata": {},
   "outputs": [],
   "source": [
    "def hohmann_transfer_to_target_at_ut(vessel: Vessel, target: Union[Vessel, Body], ct: float, ut: float, trans_time: float = 0) -> ((float, float), float, float):\n",
    "    attractor = vessel.orbit.body\n",
    "    reference_frame = attractor.non_rotating_reference_frame\n",
    "\n",
    "    krpc_ut = ut\n",
    "    krpc_ct = conn.space_center.ut\n",
    "    astropy_ct = AstropyTime(krpc_ct, format=\"unix\")\n",
    "    krpc_time_to_ut = krpc_ut - krpc_ct\n",
    "    astropy_time_to_ut = krpc_time_to_ut * AstropyUnit.s\n",
    "    \n",
    "    r_target = target.position(reference_frame) * AstropyUnit.m\n",
    "    v_target = target.velocity(reference_frame) * AstropyUnit.m / AstropyUnit.s\n",
    "    ss_target = PoliastroOrbit.from_vectors(poliastro_bodies[attractor.name], r_target, v_target, epoch=astropy_ct)\n",
    "\n",
    "    r_v_ct = vessel.position(reference_frame) * AstropyUnit.m\n",
    "    v_v_ct = vessel.velocity(reference_frame) * AstropyUnit.m / AstropyUnit.s\n",
    "    ss_v_ct = PoliastroOrbit.from_vectors(poliastro_bodies[attractor.name], r_i, v_i, epoch=astropy_ct)\n",
    "\n",
    "    ss_i = ss_v_ct.propagate(astropy_time_to_ut)\n",
    "    r_f = target.orbit.radius_at(krpc_ut + trans_time) * AstropyUnit.m\n",
    "\n",
    "    hoh = Maneuver.hohmann(ss_i, r_f)\n",
    "    \n",
    "    trans_time = hoh.get_total_time().value\n",
    "    ss_a, ss_f = ss_i.apply_maneuver(hoh, intermediate=True)\n",
    "    \n",
    "    dv_a = np.linalg.norm(hoh[0][1])\n",
    "    dv_b = np.linalg.norm(hoh[1][1])\n",
    "    \n",
    "    phase_angle = angle_between(\n",
    "        ss_a.propagate(hoh.get_total_time()).sample(1).xyz.value.take([0,1,2]),\n",
    "        ss_target.propagate(hoh.get_total_time()).sample(1).xyz.value.take([0,1,2])\n",
    "    )\n",
    "    \n",
    "    return (dv_a, dv_b, trans_time, phase_angle)"
   ]
  },
  {
   "cell_type": "code",
   "execution_count": null,
   "metadata": {},
   "outputs": [],
   "source": [
    "1 * AstropyUnit.s"
   ]
  },
  {
   "cell_type": "code",
   "execution_count": 5,
   "metadata": {},
   "outputs": [
    {
     "data": {
      "text/plain": [
       "array([-2, -2, -2])"
      ]
     },
     "execution_count": 5,
     "metadata": {},
     "output_type": "execute_result"
    }
   ],
   "source": [
    "a = np.subtract([0,1,2], [2,3,4])\n",
    "a"
   ]
  },
  {
   "cell_type": "code",
   "execution_count": 6,
   "metadata": {},
   "outputs": [
    {
     "data": {
      "text/plain": [
       "-2"
      ]
     },
     "execution_count": 6,
     "metadata": {},
     "output_type": "execute_result"
    }
   ],
   "source": [
    "a[0]"
   ]
  },
  {
   "cell_type": "code",
   "execution_count": null,
   "metadata": {},
   "outputs": [],
   "source": []
  }
 ],
 "metadata": {
  "kernelspec": {
   "display_name": "Python 3",
   "language": "python",
   "name": "python3"
  },
  "language_info": {
   "codemirror_mode": {
    "name": "ipython",
    "version": 3
   },
   "file_extension": ".py",
   "mimetype": "text/x-python",
   "name": "python",
   "nbconvert_exporter": "python",
   "pygments_lexer": "ipython3",
   "version": "3.6.3"
  }
 },
 "nbformat": 4,
 "nbformat_minor": 2
}
