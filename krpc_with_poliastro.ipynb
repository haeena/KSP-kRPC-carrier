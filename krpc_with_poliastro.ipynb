{
 "cells": [
  {
   "cell_type": "code",
   "execution_count": 1,
   "metadata": {},
   "outputs": [],
   "source": [
    "%matplotlib inline\n",
    "\n",
    "import numpy as np\n",
    "import matplotlib.pyplot as plt\n",
    "from astropy import units as u\n",
    "from poliastro.bodies import Body\n",
    "from poliastro.twobody import Orbit\n",
    "from astropy.constants import Constant"
   ]
  },
  {
   "cell_type": "code",
   "execution_count": 47,
   "metadata": {},
   "outputs": [
    {
     "data": {
      "text/plain": [
       "{'Bop': <SpaceCenter.CelestialBody remote object #12>,\n",
       " 'Dres': <SpaceCenter.CelestialBody remote object #16>,\n",
       " 'Duna': <SpaceCenter.CelestialBody remote object #7>,\n",
       " 'Eeloo': <SpaceCenter.CelestialBody remote object #17>,\n",
       " 'Eve': <SpaceCenter.CelestialBody remote object #6>,\n",
       " 'Gilly': <SpaceCenter.CelestialBody remote object #14>,\n",
       " 'Ike': <SpaceCenter.CelestialBody remote object #8>,\n",
       " 'Jool': <SpaceCenter.CelestialBody remote object #9>,\n",
       " 'Kerbin': <SpaceCenter.CelestialBody remote object #2>,\n",
       " 'Laythe': <SpaceCenter.CelestialBody remote object #10>,\n",
       " 'Minmus': <SpaceCenter.CelestialBody remote object #4>,\n",
       " 'Moho': <SpaceCenter.CelestialBody remote object #5>,\n",
       " 'Mun': <SpaceCenter.CelestialBody remote object #3>,\n",
       " 'Pol': <SpaceCenter.CelestialBody remote object #15>,\n",
       " 'Sun': <SpaceCenter.CelestialBody remote object #1>,\n",
       " 'Tylo': <SpaceCenter.CelestialBody remote object #13>,\n",
       " 'Vall': <SpaceCenter.CelestialBody remote object #11>}"
      ]
     },
     "execution_count": 47,
     "metadata": {},
     "output_type": "execute_result"
    }
   ],
   "source": [
    "import math\n",
    "import time\n",
    "import krpc\n",
    "conn = krpc.connect(name='jupyter')\n",
    "krpc_bodies = conn.space_center.bodies\n",
    "krpc_bodies"
   ]
  },
  {
   "cell_type": "code",
   "execution_count": 3,
   "metadata": {},
   "outputs": [
    {
     "data": {
      "text/plain": [
       "{'Bop':  (Bop),\n",
       " 'Dres':  (Dres),\n",
       " 'Duna':  (Duna),\n",
       " 'Eeloo':  (Eeloo),\n",
       " 'Eve':  (Eve),\n",
       " 'Gilly':  (Gilly),\n",
       " 'Ike':  (Ike),\n",
       " 'Jool':  (Jool),\n",
       " 'Kerbin':  (Kerbin),\n",
       " 'Laythe':  (Laythe),\n",
       " 'Minmus':  (Minmus),\n",
       " 'Moho':  (Moho),\n",
       " 'Mun':  (Mun),\n",
       " 'Pol':  (Pol),\n",
       " 'Sun':  (Sun),\n",
       " 'Tylo':  (Tylo),\n",
       " 'Vall':  (Vall)}"
      ]
     },
     "execution_count": 3,
     "metadata": {},
     "output_type": "execute_result"
    }
   ],
   "source": [
    "def _convert_body_krpc_to_poliastro(bodies, parent, krpc_body):\n",
    "    name = krpc_body.name\n",
    "    GM = Constant('GM_k{}'.format(name), 'Kerbal {} gravitational constant'.format(name),\n",
    "                  krpc_body.gravitational_parameter, 'm3 / (s2)', 0,\n",
    "                  'kRPC space_center.bodies[\"{}\"].gravitational_parameter'.format(name), system='si')\n",
    "    R = Constant('R_k{}'.format(name), 'Kerbal {} equatorial radius'.format(name),\n",
    "                      krpc_body.equatorial_radius, 'm', 0,\n",
    "                     'kRPC space_center.bodies[\"{}\"].equatorial_radius'.format(name), system='si')\n",
    "    body = Body(parent, GM, \"\", name, R)\n",
    "    bodies[name] = body\n",
    "    for satelite in krpc_body.satellites:\n",
    "        _convert_body_krpc_to_poliastro(bodies, body, satelite)\n",
    "    return\n",
    "\n",
    "def convert_bodies_krpc_to_poliastro(bodies, krpc_bodies):\n",
    "    krpc_Sun = krpc_bodies[\"Sun\"]\n",
    "    _convert_body_krpc_to_poliastro(bodies, None, krpc_Sun)\n",
    "    return\n",
    "    \n",
    "bodies = {}\n",
    "convert_bodies_krpc_to_poliastro(bodies, krpc_bodies)\n",
    "\n",
    "bodies"
   ]
  },
  {
   "cell_type": "code",
   "execution_count": 4,
   "metadata": {},
   "outputs": [],
   "source": [
    "reference_frame = krpc_bodies[\"Kerbin\"].non_rotating_reference_frame\n",
    "\n",
    "r = krpc_bodies[\"Mun\"].position(reference_frame) * u.m\n",
    "v = krpc_bodies[\"Mun\"].velocity(reference_frame) * u.m / u.s\n",
    "\n",
    "ss = Orbit.from_vectors(bodies[\"Kerbin\"], r, v)"
   ]
  },
  {
   "cell_type": "code",
   "execution_count": 5,
   "metadata": {},
   "outputs": [
    {
     "data": {
      "text/plain": [
       "[<matplotlib.lines.Line2D at 0x2a565f4dfd0>,\n",
       " <matplotlib.lines.Line2D at 0x2a579cbd748>]"
      ]
     },
     "execution_count": 5,
     "metadata": {},
     "output_type": "execute_result"
    },
    {
     "data": {
      "image/png": "[encoded data removed]",
      "text/plain": [
       "<matplotlib.figure.Figure at 0x2a578b66358>"
      ]
     },
     "metadata": {},
     "output_type": "display_data"
    }
   ],
   "source": [
    "from poliastro.plotting import plot\n",
    "plot(ss)"
   ]
  },
  {
   "cell_type": "code",
   "execution_count": 49,
   "metadata": {},
   "outputs": [
    {
     "ename": "NameError",
     "evalue": "name 'reference_frame' is not defined",
     "output_type": "error",
     "traceback": [
      "\u001b[1;31m---------------------------------------------------------------------------\u001b[0m",
      "\u001b[1;31mNameError\u001b[0m                                 Traceback (most recent call last)",
      "\u001b[1;32m<ipython-input-49-85bcaafeded2>\u001b[0m in \u001b[0;36m<module>\u001b[1;34m()\u001b[0m\n\u001b[0;32m      1\u001b[0m \u001b[0mvessel\u001b[0m \u001b[1;33m=\u001b[0m \u001b[0mconn\u001b[0m\u001b[1;33m.\u001b[0m\u001b[0mspace_center\u001b[0m\u001b[1;33m.\u001b[0m\u001b[0mactive_vessel\u001b[0m\u001b[1;33m\u001b[0m\u001b[0m\n\u001b[1;32m----> 2\u001b[1;33m \u001b[0mr\u001b[0m \u001b[1;33m=\u001b[0m \u001b[0mvessel\u001b[0m\u001b[1;33m.\u001b[0m\u001b[0mposition\u001b[0m\u001b[1;33m(\u001b[0m\u001b[0mreference_frame\u001b[0m\u001b[1;33m)\u001b[0m \u001b[1;33m*\u001b[0m \u001b[0mu\u001b[0m\u001b[1;33m.\u001b[0m\u001b[0mm\u001b[0m\u001b[1;33m\u001b[0m\u001b[0m\n\u001b[0m\u001b[0;32m      3\u001b[0m \u001b[0mv\u001b[0m \u001b[1;33m=\u001b[0m \u001b[0mvessel\u001b[0m\u001b[1;33m.\u001b[0m\u001b[0mvelocity\u001b[0m\u001b[1;33m(\u001b[0m\u001b[0mreference_frame\u001b[0m\u001b[1;33m)\u001b[0m \u001b[1;33m*\u001b[0m \u001b[0mu\u001b[0m\u001b[1;33m.\u001b[0m\u001b[0mm\u001b[0m \u001b[1;33m/\u001b[0m \u001b[0mu\u001b[0m\u001b[1;33m.\u001b[0m\u001b[0ms\u001b[0m\u001b[1;33m\u001b[0m\u001b[0m\n\u001b[0;32m      4\u001b[0m \u001b[0mss_i\u001b[0m \u001b[1;33m=\u001b[0m \u001b[0mOrbit\u001b[0m\u001b[1;33m.\u001b[0m\u001b[0mfrom_vectors\u001b[0m\u001b[1;33m(\u001b[0m\u001b[0mbodies\u001b[0m\u001b[1;33m[\u001b[0m\u001b[1;34m\"Kerbin\"\u001b[0m\u001b[1;33m]\u001b[0m\u001b[1;33m,\u001b[0m \u001b[0mr\u001b[0m\u001b[1;33m,\u001b[0m \u001b[0mv\u001b[0m\u001b[1;33m)\u001b[0m\u001b[1;33m\u001b[0m\u001b[0m\n",
      "\u001b[1;31mNameError\u001b[0m: name 'reference_frame' is not defined"
     ]
    }
   ],
   "source": [
    "vessel = conn.space_center.active_vessel\n",
    "r = vessel.position(reference_frame) * u.m\n",
    "v = vessel.velocity(reference_frame) * u.m / u.s\n",
    "ss_i = Orbit.from_vectors(bodies[\"Kerbin\"], r, v)"
   ]
  },
  {
   "cell_type": "code",
   "execution_count": 7,
   "metadata": {},
   "outputs": [
    {
     "data": {
      "text/latex": [
       "$1.1980722 \\; \\mathrm{\\frac{km}{s}}$"
      ],
      "text/plain": [
       "<Quantity 1.1980721817328461 km / s>"
      ]
     },
     "execution_count": 7,
     "metadata": {},
     "output_type": "execute_result"
    }
   ],
   "source": [
    "from poliastro.maneuver import Maneuver\n",
    "mun_apoapsis = krpc_bodies[\"Mun\"].orbit.apoapsis\n",
    "hoh = Maneuver.hohmann(ss_i, mun_apoapsis * u.m)\n",
    "hoh.get_total_cost()"
   ]
  },
  {
   "cell_type": "code",
   "execution_count": 8,
   "metadata": {},
   "outputs": [
    {
     "data": {
      "text/latex": [
       "$26775.142 \\; \\mathrm{s}$"
      ],
      "text/plain": [
       "<Quantity 26775.142108312208 s>"
      ]
     },
     "execution_count": 8,
     "metadata": {},
     "output_type": "execute_result"
    }
   ],
   "source": [
    "hoh.get_total_time()"
   ]
  },
  {
   "cell_type": "markdown",
   "metadata": {},
   "source": [
    "num_division = 30\n",
    "tick = 1.5 * vessel.period / num_division"
   ]
  },
  {
   "cell_type": "code",
   "execution_count": 13,
   "metadata": {},
   "outputs": [
    {
     "data": {
      "text/plain": [
       "[<matplotlib.lines.Line2D at 0x23599962eb8>,\n",
       " <matplotlib.lines.Line2D at 0x23599974470>]"
      ]
     },
     "execution_count": 13,
     "metadata": {},
     "output_type": "execute_result"
    },
    {
     "data": {
      "image/png": "[encoded data removed]",
      "text/plain": [
       "<matplotlib.figure.Figure at 0x2359990d0b8>"
      ]
     },
     "metadata": {},
     "output_type": "display_data"
    }
   ],
   "source": [
    "from poliastro.plotting import OrbitPlotter\n",
    "\n",
    "op = OrbitPlotter()\n",
    "ss_a, ss_f = ss_i.apply_maneuver(hoh, intermediate=True)\n",
    "op.plot(ss_i, label=\"Initial orbit\")\n",
    "op.plot(ss_a, label=\"Transfer orbit\")\n",
    "op.plot(ss_f, label=\"Final orbit\")"
   ]
  },
  {
   "cell_type": "code",
   "execution_count": 19,
   "metadata": {},
   "outputs": [],
   "source": [
    "from poliastro.util import norm\n",
    "delta_v = norm(tuple(val.decompose([u.m, u.s]) for val in hoh[0])[1])"
   ]
  },
  {
   "cell_type": "code",
   "execution_count": 24,
   "metadata": {},
   "outputs": [
    {
     "data": {
      "text/plain": [
       "836.657547108947"
      ]
     },
     "execution_count": 24,
     "metadata": {},
     "output_type": "execute_result"
    }
   ],
   "source": [
    "delta_v.value"
   ]
  },
  {
   "cell_type": "code",
   "execution_count": 25,
   "metadata": {},
   "outputs": [],
   "source": [
    "ut = conn.space_center.ut\n",
    "node = vessel.control.add_node(\n",
    "    ut + 300, prograde=delta_v.value)"
   ]
  },
  {
   "cell_type": "code",
   "execution_count": 4,
   "metadata": {},
   "outputs": [],
   "source": [
    "vessel = conn.space_center.active_vessel\n",
    "body = vessel.orbit.body\n",
    "obt_frame = vessel.orbit.body.non_rotating_reference_frame\n",
    "srf_frame = vessel.orbit.body.reference_frame"
   ]
  },
  {
   "cell_type": "code",
   "execution_count": 5,
   "metadata": {},
   "outputs": [
    {
     "data": {
      "text/plain": [
       "5.933102677204224"
      ]
     },
     "execution_count": 5,
     "metadata": {},
     "output_type": "execute_result"
    }
   ],
   "source": [
    "body.rotation_angle"
   ]
  },
  {
   "cell_type": "code",
   "execution_count": 17,
   "metadata": {},
   "outputs": [
    {
     "name": "stdout",
     "output_type": "stream",
     "text": [
      "Sun: 600000.0\n",
      "Kerbin: 70000.0\n",
      "Mun: 0.0\n",
      "Minmus: 0.0\n",
      "Moho: 0.0\n",
      "Eve: 55000.0\n",
      "Duna: 70000.0\n",
      "Ike: 0.0\n",
      "Jool: 400000.0\n",
      "Laythe: 60000.0\n",
      "Vall: 0.0\n",
      "Bop: 0.0\n",
      "Tylo: 0.0\n",
      "Gilly: 0.0\n",
      "Pol: 0.0\n",
      "Dres: 0.0\n",
      "Eeloo: 0.0\n"
     ]
    }
   ],
   "source": [
    "for k,v in krpc_bodies.items():\n",
    "    print(\"{}: {}\".format(k, v.atmosphere_depth))"
   ]
  },
  {
   "cell_type": "code",
   "execution_count": 32,
   "metadata": {},
   "outputs": [
    {
     "data": {
      "text/plain": [
       "0.9757724967479858"
      ]
     },
     "execution_count": 32,
     "metadata": {},
     "output_type": "execute_result"
    }
   ],
   "source": [
    "math.log(8000,10000)"
   ]
  },
  {
   "cell_type": "code",
   "execution_count": 70,
   "metadata": {},
   "outputs": [
    {
     "data": {
      "text/plain": [
       "3"
      ]
     },
     "execution_count": 70,
     "metadata": {},
     "output_type": "execute_result"
    }
   ],
   "source": [
    "from functools import reduce\n",
    "current_stage = reduce(lambda x,y: max(x, y.decouple_stage, y.stage), vessel.parts.all, 0)\n",
    "current_stage"
   ]
  },
  {
   "cell_type": "code",
   "execution_count": 81,
   "metadata": {},
   "outputs": [],
   "source": [
    "current_stage_resource = vessel.resources_in_decouple_stage(6)\n",
    "for r_name in current_stage_resource.names:\n",
    "    print(r_name, current_stage_resource.amount(r_name))"
   ]
  },
  {
   "cell_type": "code",
   "execution_count": 83,
   "metadata": {},
   "outputs": [
    {
     "data": {
      "text/plain": [
       "0.0"
      ]
     },
     "execution_count": 83,
     "metadata": {},
     "output_type": "execute_result"
    }
   ],
   "source": [
    "current_stage_resource.amount(\"Oxidizer\")"
   ]
  },
  {
   "cell_type": "code",
   "execution_count": null,
   "metadata": {},
   "outputs": [],
   "source": []
  }
 ],
 "metadata": {
  "kernelspec": {
   "display_name": "Python 3",
   "language": "python",
   "name": "python3"
  },
  "language_info": {
   "codemirror_mode": {
    "name": "ipython",
    "version": 3
   },
   "file_extension": ".py",
   "mimetype": "text/x-python",
   "name": "python",
   "nbconvert_exporter": "python",
   "pygments_lexer": "ipython3",
   "version": "3.6.3"
  }
 },
 "nbformat": 4,
 "nbformat_minor": 2
}
